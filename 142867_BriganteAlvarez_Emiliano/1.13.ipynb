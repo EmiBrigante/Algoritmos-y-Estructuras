{
 "cells": [
  {
   "cell_type": "code",
   "execution_count": null,
   "id": "initial_id",
   "metadata": {
    "collapsed": true
   },
   "outputs": [],
   "source": [
    "# 1.13 Pide al usuario que ingrese una cadena de texto y reemplaza todas las ocurrencias de un carácter \n",
    "# específico en  la cadena por otro carácter.\n",
    "\n",
    "entrada_cadena = str(input(\"Ingresa cadena de texto\"))\n",
    "\n",
    "entrada_modificada = entrada_cadena.replace(\"e\", \"x\")\n",
    "print(entrada_modificada)\n",
    "\n",
    "        "
   ]
  }
 ],
 "metadata": {
  "kernelspec": {
   "display_name": "Python 3",
   "language": "python",
   "name": "python3"
  },
  "language_info": {
   "codemirror_mode": {
    "name": "ipython",
    "version": 2
   },
   "file_extension": ".py",
   "mimetype": "text/x-python",
   "name": "python",
   "nbconvert_exporter": "python",
   "pygments_lexer": "ipython2",
   "version": "2.7.6"
  }
 },
 "nbformat": 4,
 "nbformat_minor": 5
}
