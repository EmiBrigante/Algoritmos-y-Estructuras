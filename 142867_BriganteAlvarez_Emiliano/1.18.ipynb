{
 "cells": [
  {
   "cell_type": "code",
   "execution_count": null,
   "id": "initial_id",
   "metadata": {
    "collapsed": true
   },
   "outputs": [],
   "source": [
    "# 1.18 Crea una lista inicial llamada mi_lista con los siguientes elementos: [5, 2, 7, 1, 8].\n",
    "mi_lista = [5,2,7,1,8]\n",
    "# 1. Agrega los números 10 y 3 al final de la lista mi_lista.\n",
    "mi_lista.append(10), mi_lista.append(3) \n",
    "print(mi_lista)\n",
    "# 2. Inserta el número 4 en la posición 2 de la lista mi_lista.\n",
    "mi_lista[1] = 4\n",
    "print(mi_lista)\n",
    "# 3. Elimina el número 7 de la lista.\n",
    "mi_lista.pop(2)\n",
    "print(mi_lista)\n",
    "# 4. Elimina un elemento de la lista en la posición 1 y almacena el valor eliminado en una variable llamada elemento_eliminado.\n",
    "elemento_eliminado = mi_lista.pop(0)\n",
    "print(elemento_eliminado)\n",
    "print(mi_lista)\n",
    "# 5. Encuentra el índice del número 8 en la lista y almacénalo en una variable llamada indice.\n",
    "indice = mi_lista.index(8)\n",
    "print(indice)\n",
    "# 6. Cuenta cuántas veces aparece el número 4 en la lista y almacena el resultado en una variable llamada conteo.\n",
    "conteo = mi_lista.count(4)\n",
    "print(conteo)\n",
    "# 7. Ordena la lista mi_lista en orden ascendente.\n",
    "mi_lista.sort()\n",
    "print(mi_lista)\n",
    "# 8. Invierte el orden de los elementos en la lista mi_lista.\n",
    "mi_lista.reverse()\n",
    "print(mi_lista)\n",
    "# 9. Borra todos los elementos de la lista mi_lista.\n",
    "mi_lista.clear()\n",
    "print(mi_lista)"
   ]
  }
 ],
 "metadata": {
  "kernelspec": {
   "display_name": "Python 3",
   "language": "python",
   "name": "python3"
  },
  "language_info": {
   "codemirror_mode": {
    "name": "ipython",
    "version": 2
   },
   "file_extension": ".py",
   "mimetype": "text/x-python",
   "name": "python",
   "nbconvert_exporter": "python",
   "pygments_lexer": "ipython2",
   "version": "2.7.6"
  }
 },
 "nbformat": 4,
 "nbformat_minor": 5
}
