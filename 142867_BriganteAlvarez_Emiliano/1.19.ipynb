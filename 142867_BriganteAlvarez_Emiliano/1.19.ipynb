{
 "cells": [
  {
   "cell_type": "code",
   "execution_count": 1,
   "id": "initial_id",
   "metadata": {
    "collapsed": true,
    "ExecuteTime": {
     "end_time": "2023-09-21T11:05:02.496656Z",
     "start_time": "2023-09-21T11:05:02.296550Z"
    }
   },
   "outputs": [
    {
     "name": "stdout",
     "output_type": "stream",
     "text": [
      "Promedio de goles:  10.4\n",
      "Mejor goleadora:  Maria\n",
      "La jugadora con el número de camiseta 7 es Sofia y ha anotado 7 goles.\n"
     ]
    }
   ],
   "source": [
    "# 1. Crear al menos cinco tuplas de rendimiento de jugadoras distintas con datos ficticios\n",
    "jugadora1 = (\"Maria\", 10, 15)\n",
    "jugadora2 = (\"Laura\", 8, 10)\n",
    "jugadora3 = (\"Sofia\", 7, 7)\n",
    "jugadora4 = (\"Isabel\", 14, 12)\n",
    "jugadora5 = (\"Carla\", 4, 8)\n",
    "\n",
    "# 2. Almacenar todas las tuplas en una lista llamada registro_rendimiento\n",
    "registro_rendimiento = [jugadora1, jugadora2, jugadora3, jugadora4, jugadora5]\n",
    "\n",
    "# 3. Función para calcular el promedio de goles\n",
    "def promedio_goles(registro):\n",
    "    total_goles = 0\n",
    "    total_jugadoras = len(registro)\n",
    "    \n",
    "    for tupla in registro:\n",
    "        total_goles += tupla[2]\n",
    "        \n",
    "    return total_goles / total_jugadoras if total_jugadoras > 0 else 0\n",
    "\n",
    "# 4. Función para identificar a la mejor goleadora\n",
    "def mejor_goleadora(registro):\n",
    "    max_goles = 0\n",
    "    mejor_jugadora = \"\"\n",
    "    \n",
    "    for tupla in registro:\n",
    "        if tupla[2] > max_goles:\n",
    "            max_goles = tupla[2]\n",
    "            mejor_jugadora = tupla[0]\n",
    "            \n",
    "    return mejor_jugadora\n",
    "\n",
    "# 5. Función para buscar una jugadora por su número de camiseta\n",
    "def buscar_jugadora(registro, numero_camiseta):\n",
    "    for tupla in registro:\n",
    "        if tupla[1] == numero_camiseta:\n",
    "            return (tupla[0], tupla[2])\n",
    "    \n",
    "    return \"La jugadora con el número de camiseta {} no está en el registro.\".format(numero_camiseta)\n",
    "\n",
    "# Utilizar las funciones para mostrar información\n",
    "print(\"Promedio de goles: \", promedio_goles(registro_rendimiento))\n",
    "print(\"Mejor goleadora: \", mejor_goleadora(registro_rendimiento))\n",
    "\n",
    "# Buscar información sobre jugadoras específicas\n",
    "numero_camiseta_buscar = 7\n",
    "resultado_busqueda = buscar_jugadora(registro_rendimiento, numero_camiseta_buscar)\n",
    "\n",
    "if isinstance(resultado_busqueda, tuple):\n",
    "    print(f\"La jugadora con el número de camiseta {numero_camiseta_buscar} es {resultado_busqueda[0]} y ha anotado {resultado_busqueda[1]} goles.\")\n",
    "else:\n",
    "    print(resultado_busqueda)\n"
   ]
  },
  {
   "cell_type": "code",
   "execution_count": null,
   "outputs": [],
   "source": [],
   "metadata": {
    "collapsed": false
   },
   "id": "37f95073462a0ca8"
  }
 ],
 "metadata": {
  "kernelspec": {
   "display_name": "Python 3",
   "language": "python",
   "name": "python3"
  },
  "language_info": {
   "codemirror_mode": {
    "name": "ipython",
    "version": 2
   },
   "file_extension": ".py",
   "mimetype": "text/x-python",
   "name": "python",
   "nbconvert_exporter": "python",
   "pygments_lexer": "ipython2",
   "version": "2.7.6"
  }
 },
 "nbformat": 4,
 "nbformat_minor": 5
}
