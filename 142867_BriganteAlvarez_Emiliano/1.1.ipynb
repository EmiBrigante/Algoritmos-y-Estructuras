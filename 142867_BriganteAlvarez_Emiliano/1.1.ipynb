{
 "cells": [
  {
   "cell_type": "code",
   "execution_count": null,
   "id": "initial_id",
   "metadata": {
    "collapsed": true
   },
   "outputs": [],
   "source": [
    "#1.1 Solicita al usuario que ingrese dos números enteros y luego muestra la suma de esos números.\n",
    "numero1 = int(input(\"Ingrese el primer número entero: \"))\n",
    "numero2 = int(input(\"Ingrese el segundo número entero: \"))\n",
    "\n",
    "suma = numero1 + numero2\n",
    "\n",
    "print(f\"La suma de {numero1} y {numero2} es {suma}\")"
   ]
  }
 ],
 "metadata": {
  "kernelspec": {
   "display_name": "Python 3",
   "language": "python",
   "name": "python3"
  },
  "language_info": {
   "codemirror_mode": {
    "name": "ipython",
    "version": 2
   },
   "file_extension": ".py",
   "mimetype": "text/x-python",
   "name": "python",
   "nbconvert_exporter": "python",
   "pygments_lexer": "ipython2",
   "version": "2.7.6"
  }
 },
 "nbformat": 4,
 "nbformat_minor": 5
}
