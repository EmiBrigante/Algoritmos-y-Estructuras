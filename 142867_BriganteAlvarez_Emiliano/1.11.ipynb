{
 "cells": [
  {
   "cell_type": "code",
   "execution_count": null,
   "id": "initial_id",
   "metadata": {
    "collapsed": true
   },
   "outputs": [],
   "source": [
    "# 1.11 Solicita al usuario que ingrese una cadena de texto y luego cuenta y muestra la cantidad de\n",
    "# caracteres alfabéticos (letras) en la cadena.\n",
    "\n",
    "entrada_cadena = str(input(\"Ingresa una cadena de texto\"))\n",
    "contador = 0\n",
    "for i in entrada_cadena:\n",
    "    contador += 1\n",
    "\n",
    "print(contador)\n",
    "print(len(entrada_cadena))\n",
    "\n"
   ]
  }
 ],
 "metadata": {
  "kernelspec": {
   "display_name": "Python 3",
   "language": "python",
   "name": "python3"
  },
  "language_info": {
   "codemirror_mode": {
    "name": "ipython",
    "version": 2
   },
   "file_extension": ".py",
   "mimetype": "text/x-python",
   "name": "python",
   "nbconvert_exporter": "python",
   "pygments_lexer": "ipython2",
   "version": "2.7.6"
  }
 },
 "nbformat": 4,
 "nbformat_minor": 5
}
