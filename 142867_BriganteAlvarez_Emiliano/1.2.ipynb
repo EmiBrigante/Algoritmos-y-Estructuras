{
 "cells": [
  {
   "cell_type": "code",
   "execution_count": null,
   "id": "initial_id",
   "metadata": {
    "collapsed": true
   },
   "outputs": [],
   "source": [
    "# 1.2 Pide al usuario su peso en kilogramos y su altura en metros. Calcula el índice de masa corporal \n",
    "# (BMI) usando la fórmula: BMI = peso / (altura * altura). Luego, muestra el resultado.\n",
    "\n",
    "peso_kg = float(input(\"Ingrese peso en KG\"))\n",
    "altura_m = float(input(\"Ingrese altura en metros\"))\n",
    "\n",
    "bmi = peso_kg / (altura_m ** 2)\n",
    "\n",
    "print(f\"El BMI de {peso_kg} y {altura_m} es {bmi}\")"
   ]
  }
 ],
 "metadata": {
  "kernelspec": {
   "display_name": "Python 3",
   "language": "python",
   "name": "python3"
  },
  "language_info": {
   "codemirror_mode": {
    "name": "ipython",
    "version": 2
   },
   "file_extension": ".py",
   "mimetype": "text/x-python",
   "name": "python",
   "nbconvert_exporter": "python",
   "pygments_lexer": "ipython2",
   "version": "2.7.6"
  }
 },
 "nbformat": 4,
 "nbformat_minor": 5
}
