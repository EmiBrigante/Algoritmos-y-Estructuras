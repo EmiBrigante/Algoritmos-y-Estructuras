{
 "cells": [
  {
   "cell_type": "code",
   "execution_count": null,
   "id": "initial_id",
   "metadata": {
    "collapsed": true
   },
   "outputs": [],
   "source": [
    "# 1.9 Pide al usuario que ingrese dos valores booleanos (True o False) e imprime el resultado de las\n",
    "# operaciones lógicas AND, OR y NOT entre esos valores.\n",
    "\n",
    "bool1 = bool(input(\"Ingresa el primer booleano\"))\n",
    "bool2 = bool(input(\"Ingresa el segundo booleano\"))\n",
    "\n",
    "resultado_and = bool1 and bool2\n",
    "resultado_or = bool1 or bool2\n",
    "resultado_not1 = not bool1\n",
    "resultado_not2 = not bool2\n",
    "\n",
    "print(f\"\\n resultado_and: {resultado_and} \\n resultado_or: {resultado_or} \\n resultado_not1: {resultado_not1} \\n resultado_not2: {resultado_not2}\")"
   ]
  }
 ],
 "metadata": {
  "kernelspec": {
   "display_name": "Python 3",
   "language": "python",
   "name": "python3"
  },
  "language_info": {
   "codemirror_mode": {
    "name": "ipython",
    "version": 2
   },
   "file_extension": ".py",
   "mimetype": "text/x-python",
   "name": "python",
   "nbconvert_exporter": "python",
   "pygments_lexer": "ipython2",
   "version": "2.7.6"
  }
 },
 "nbformat": 4,
 "nbformat_minor": 5
}
