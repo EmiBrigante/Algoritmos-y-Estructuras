{
 "cells": [
  {
   "cell_type": "code",
   "execution_count": null,
   "id": "initial_id",
   "metadata": {
    "collapsed": true
   },
   "outputs": [],
   "source": [
    "# 1. Crear dos conjuntos llamados grupo_a y grupo_b\n",
    "grupo_a = {101, 102, 103, 104, 105}\n",
    "grupo_b = {104, 105, 106, 107, 108}\n",
    "\n",
    "# 2. Función que devuelve los estudiantes en común entre grupo_a y grupo_b\n",
    "def estudiantes_comunes(a, b):\n",
    "    return a.intersection(b)\n",
    "\n",
    "# 3. Función que devuelve todos los estudiantes de ambos grupos, sin duplicados\n",
    "def estudiantes_unidos(a, b):\n",
    "    return a.union(b)\n",
    "\n",
    "# 4. Función que devuelve los estudiantes que están en un grupo pero no en el otro\n",
    "def estudiantes_exclusivos(a, b):\n",
    "    return a.symmetric_difference(b)\n",
    "\n",
    "# 5. Utilizar las funciones para mostrar los resultados\n",
    "print(\"Estudiantes en común: \", estudiantes_comunes(grupo_a, grupo_b))\n",
    "print(\"Todos los estudiantes: \", estudiantes_unidos(grupo_a, grupo_b))\n",
    "print(\"Estudiantes exclusivos: \", estudiantes_exclusivos(grupo_a, grupo_b))\n"
   ]
  }
 ],
 "metadata": {
  "kernelspec": {
   "display_name": "Python 3",
   "language": "python",
   "name": "python3"
  },
  "language_info": {
   "codemirror_mode": {
    "name": "ipython",
    "version": 2
   },
   "file_extension": ".py",
   "mimetype": "text/x-python",
   "name": "python",
   "nbconvert_exporter": "python",
   "pygments_lexer": "ipython2",
   "version": "2.7.6"
  }
 },
 "nbformat": 4,
 "nbformat_minor": 5
}
