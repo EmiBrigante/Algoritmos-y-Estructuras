{
 "cells": [
  {
   "cell_type": "code",
   "execution_count": null,
   "id": "initial_id",
   "metadata": {
    "collapsed": true
   },
   "outputs": [],
   "source": [
    "# 1.10 Toma un número como entrada y conviértelo a entero, flotante y cadena. Luego, muestra los\n",
    "# resultados en diferentes líneas.\n",
    "\n",
    "entrada_num = input(\"Ingresa un número\")\n",
    "\n",
    "try:\n",
    "    entrada_entero = int(entrada_num)\n",
    "    entrada_float = float(entrada_num)\n",
    "    entrada_str = str(entrada_num)\n",
    "except ValueError:\n",
    "    print(\"Ingresa un número\")\n",
    "    \n",
    "    \n",
    "    \n",
    "\n",
    "print(f\"\\n entrada_entero: {entrada_entero} \\n entrada_float: {entrada_float} \\n entrada_str: {entrada_str}\")"
   ]
  }
 ],
 "metadata": {
  "kernelspec": {
   "display_name": "Python 3",
   "language": "python",
   "name": "python3"
  },
  "language_info": {
   "codemirror_mode": {
    "name": "ipython",
    "version": 2
   },
   "file_extension": ".py",
   "mimetype": "text/x-python",
   "name": "python",
   "nbconvert_exporter": "python",
   "pygments_lexer": "ipython2",
   "version": "2.7.6"
  }
 },
 "nbformat": 4,
 "nbformat_minor": 5
}
