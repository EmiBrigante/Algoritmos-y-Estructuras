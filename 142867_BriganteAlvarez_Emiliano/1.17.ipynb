{
 "cells": [
  {
   "cell_type": "code",
   "execution_count": null,
   "id": "initial_id",
   "metadata": {
    "collapsed": true
   },
   "outputs": [],
   "source": [
    "# 1.17 Pide al usuario dos fechas (en formato \"dd/mm/aaaa\") y calcula la diferencia en días entre las\n",
    "# dos fechas.\n",
    "\n",
    "\n",
    "fecha_1_str = (input(\"Ingrese primera fecha en formato dd/mm/aaaa: \"))\n",
    "fecha_2_str = (input(\"Ingrese segunda fecha en formato dd/mm/aaaa: \"))\n",
    "\n",
    "fecha_1 = datetime.strptime(fecha_1_str, \"%d/%m/%Y\")\n",
    "fecha_2 = datetime.strptime(fecha_2_str, \"%d/%m/%Y\")\n",
    "\n",
    "diferencia = fecha_1 - fecha_2\n",
    "\n",
    "# Cantidad de días de la diferencia\n",
    "dias_dif = diferencia.days\n",
    "\n",
    "print(f\"{dias_dif} días de diferencia\")"
   ]
  }
 ],
 "metadata": {
  "kernelspec": {
   "display_name": "Python 3",
   "language": "python",
   "name": "python3"
  },
  "language_info": {
   "codemirror_mode": {
    "name": "ipython",
    "version": 2
   },
   "file_extension": ".py",
   "mimetype": "text/x-python",
   "name": "python",
   "nbconvert_exporter": "python",
   "pygments_lexer": "ipython2",
   "version": "2.7.6"
  }
 },
 "nbformat": 4,
 "nbformat_minor": 5
}
