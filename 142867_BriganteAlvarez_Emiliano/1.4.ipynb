{
 "cells": [
  {
   "cell_type": "code",
   "execution_count": null,
   "id": "initial_id",
   "metadata": {
    "collapsed": true
   },
   "outputs": [],
   "source": [
    "# 1.4 Solicita al usuario una temperatura en grados Celsius y conviértela a grados Fahrenheit\n",
    "# utilizando la fórmula: Fahrenheit = (Celsius * 9/5) + 32.\n",
    "\n",
    "temp_celsius = float(input(\"Ingresa grados en Celsius\"))\n",
    "\n",
    "temp_Fahrenheit = (temp_celsius * 9/5) + 32\n",
    "print(temp_Fahrenheit)"
   ]
  }
 ],
 "metadata": {
  "kernelspec": {
   "display_name": "Python 3",
   "language": "python",
   "name": "python3"
  },
  "language_info": {
   "codemirror_mode": {
    "name": "ipython",
    "version": 2
   },
   "file_extension": ".py",
   "mimetype": "text/x-python",
   "name": "python",
   "nbconvert_exporter": "python",
   "pygments_lexer": "ipython2",
   "version": "2.7.6"
  }
 },
 "nbformat": 4,
 "nbformat_minor": 5
}
