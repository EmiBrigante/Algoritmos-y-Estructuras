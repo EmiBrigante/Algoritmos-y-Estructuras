{
 "cells": [
  {
   "cell_type": "code",
   "execution_count": null,
   "id": "initial_id",
   "metadata": {
    "collapsed": true
   },
   "outputs": [],
   "source": [
    "# 1.7 Crea dos conjuntos con elementos repetidos y realiza la unión, la intersección y la diferencia\n",
    "# entre ellos.\n",
    "\n",
    "conjunto1 = {1,2,3,4,5}\n",
    "conjunto2 = {4,5,6,7,8}\n",
    "\n",
    "union = conjunto1.union(conjunto2)\n",
    "interseccion = conjunto1.intersection(conjunto2)\n",
    "diferencia1 = conjunto1.difference(conjunto2)\n",
    "diferencia2 = conjunto2.difference(conjunto1)\n",
    "\n",
    "print(f\"\\n unión: {union} \\n interseccion: {interseccion} \\n diferencia1: {diferencia1} \\n diferencia2: {diferencia2}\")"
   ]
  }
 ],
 "metadata": {
  "kernelspec": {
   "display_name": "Python 3",
   "language": "python",
   "name": "python3"
  },
  "language_info": {
   "codemirror_mode": {
    "name": "ipython",
    "version": 2
   },
   "file_extension": ".py",
   "mimetype": "text/x-python",
   "name": "python",
   "nbconvert_exporter": "python",
   "pygments_lexer": "ipython2",
   "version": "2.7.6"
  }
 },
 "nbformat": 4,
 "nbformat_minor": 5
}
