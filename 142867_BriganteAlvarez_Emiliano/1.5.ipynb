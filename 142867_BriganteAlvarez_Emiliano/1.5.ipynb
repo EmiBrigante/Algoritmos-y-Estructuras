{
 "cells": [
  {
   "cell_type": "code",
   "execution_count": null,
   "id": "initial_id",
   "metadata": {
    "collapsed": true
   },
   "outputs": [],
   "source": [
    "# 1.5 Genera una lista de los primeros 10 números pares (utilizando un bucle for) y muestra la lista\n",
    "# resultante.\n",
    "num_pares = []\n",
    "n  = 10\n",
    "for i in range(n):\n",
    "    num_pares.append((i+1)*2)\n",
    "    \n",
    "print(num_pares)"
   ]
  }
 ],
 "metadata": {
  "kernelspec": {
   "display_name": "Python 3",
   "language": "python",
   "name": "python3"
  },
  "language_info": {
   "codemirror_mode": {
    "name": "ipython",
    "version": 2
   },
   "file_extension": ".py",
   "mimetype": "text/x-python",
   "name": "python",
   "nbconvert_exporter": "python",
   "pygments_lexer": "ipython2",
   "version": "2.7.6"
  }
 },
 "nbformat": 4,
 "nbformat_minor": 5
}
