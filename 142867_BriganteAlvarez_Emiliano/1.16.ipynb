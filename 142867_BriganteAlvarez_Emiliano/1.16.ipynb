{
 "cells": [
  {
   "cell_type": "code",
   "execution_count": null,
   "id": "initial_id",
   "metadata": {
    "collapsed": true
   },
   "outputs": [],
   "source": [
    "# 1.16 Solicita al usuario que ingrese las calificaciones de un estudiante en tres asignaturas diferentes\n",
    "# y calcula el promedio de las calificaciones.\n",
    "\n",
    "mat_input = float(input(\"Ingresa calificación en mat\"))\n",
    "esp_input = float(input(\"Ingresa calificación en esp\"))\n",
    "inf_input = float(input(\"Ingresa calificación en inf\"))\n",
    "\n",
    "promedio = (mat_input + esp_input + inf_input) / 3\n",
    "print(f\"El promedio es {promedio}\") "
   ]
  }
 ],
 "metadata": {
  "kernelspec": {
   "display_name": "Python 3",
   "language": "python",
   "name": "python3"
  },
  "language_info": {
   "codemirror_mode": {
    "name": "ipython",
    "version": 2
   },
   "file_extension": ".py",
   "mimetype": "text/x-python",
   "name": "python",
   "nbconvert_exporter": "python",
   "pygments_lexer": "ipython2",
   "version": "2.7.6"
  }
 },
 "nbformat": 4,
 "nbformat_minor": 5
}
