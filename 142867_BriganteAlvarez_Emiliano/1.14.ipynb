{
 "cells": [
  {
   "cell_type": "code",
   "execution_count": null,
   "id": "initial_id",
   "metadata": {
    "collapsed": true
   },
   "outputs": [],
   "source": [
    "# 1.14 Pide al usuario su fecha de nacimiento (año, mes y día) y calcula cuántos días ha vivido hasta la\n",
    "# fecha actual.\n",
    "\n",
    "from datetime import datetime\n",
    "\n",
    "año_nacimiento = int(input(\"Ingrese su año de nacimiento: \"))\n",
    "mes_nacimiento = int(input(\"Ingrese su mes de nacimiento: \"))\n",
    "dia_nacimiento = int(input(\"Ingrese su día de nacimiento: \"))\n",
    "\n",
    "fecha_actual = datetime.now()\n",
    "\n",
    "fecha_nacimiento = datetime(año_nacimiento, mes_nacimiento, dia_nacimiento)\n",
    "\n",
    "# Diferencia en días entre la fecha actual y la fecha de nacimiento\n",
    "diferencia = fecha_actual - fecha_nacimiento\n",
    "\n",
    "# Cantidad de días de la diferencia\n",
    "dias_vividos = diferencia.days\n",
    "\n",
    "print(f\"{dias_vividos} días vivo\")\n",
    "\n"
   ]
  }
 ],
 "metadata": {
  "kernelspec": {
   "display_name": "Python 3",
   "language": "python",
   "name": "python3"
  },
  "language_info": {
   "codemirror_mode": {
    "name": "ipython",
    "version": 2
   },
   "file_extension": ".py",
   "mimetype": "text/x-python",
   "name": "python",
   "nbconvert_exporter": "python",
   "pygments_lexer": "ipython2",
   "version": "2.7.6"
  }
 },
 "nbformat": 4,
 "nbformat_minor": 5
}
