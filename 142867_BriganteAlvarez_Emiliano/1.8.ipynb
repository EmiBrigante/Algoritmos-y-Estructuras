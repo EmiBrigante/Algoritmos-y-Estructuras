{
 "cells": [
  {
   "cell_type": "code",
   "execution_count": null,
   "id": "initial_id",
   "metadata": {
    "collapsed": true
   },
   "outputs": [],
   "source": [
    "# 1.8 Crea un diccionario que almacene los nombres y números de teléfono de tus contactos. Luego,\n",
    "# permite al usuario buscar un contacto por nombre y mostrar su número.\n",
    "contactos = {\n",
    "    \"Juan\": \"123-456-7890\",\n",
    "    \"María\": \"234-567-8901\",\n",
    "    \"Carlos\": \"345-678-9012\",\n",
    "    \"Laura\": \"456-789-0123\",\n",
    "}\n",
    "\n",
    "buscador_nombre = str(input(\"Busccar por nombre en contactos\"))\n",
    "if buscador_nombre in contactos:\n",
    "    num_telefono = contactos[buscador_nombre]\n",
    "    print(f\"El número de teléfono {num_telefono} es de {buscador_nombre}\")\n",
    "else:\n",
    "    print(f\"No se encontro el contacto {buscador_nombre}\")\n",
    "\n",
    "    "
   ]
  }
 ],
 "metadata": {
  "kernelspec": {
   "display_name": "Python 3",
   "language": "python",
   "name": "python3"
  },
  "language_info": {
   "codemirror_mode": {
    "name": "ipython",
    "version": 2
   },
   "file_extension": ".py",
   "mimetype": "text/x-python",
   "name": "python",
   "nbconvert_exporter": "python",
   "pygments_lexer": "ipython2",
   "version": "2.7.6"
  }
 },
 "nbformat": 4,
 "nbformat_minor": 5
}
