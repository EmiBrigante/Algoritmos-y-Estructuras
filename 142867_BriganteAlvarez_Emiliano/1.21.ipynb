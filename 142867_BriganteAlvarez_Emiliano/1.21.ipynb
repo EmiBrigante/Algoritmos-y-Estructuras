{
 "cells": [
  {
   "cell_type": "code",
   "execution_count": null,
   "id": "initial_id",
   "metadata": {
    "collapsed": true
   },
   "outputs": [],
   "source": [
    "# 1. Crear un diccionario llamado pokedex\n",
    "pokedex = {\n",
    "    \"Charizard\": {\"Tipo\": \"Fuego\", \"HP\": 78, \"ATK\": 84, \"DEF\": 78},\n",
    "    \"Blastoise\": {\"Tipo\": \"Agua\", \"HP\": 79, \"ATK\": 83, \"DEF\": 100},\n",
    "    \"Venusaur\": {\"Tipo\": \"Planta\", \"HP\": 80, \"ATK\": 82, \"DEF\": 83},\n",
    "}\n",
    "\n",
    "# 2. Función para mostrar información de un Pokémon específico\n",
    "def mostrar_informacion_pokemon(nombre):\n",
    "    if nombre in pokedex:\n",
    "        print(f\"Información de {nombre}:\")\n",
    "        for clave, valor in pokedex[nombre].items():\n",
    "            print(f\"{clave}: {valor}\")\n",
    "    else:\n",
    "        print(f\"El Pokémon {nombre} no se encuentra en la pokedex.\")\n",
    "\n",
    "# 3. Función para agregar un nuevo Pokémon a la pokedex\n",
    "def agregar_pokemon(nombre, tipo, hp, atk, def_):\n",
    "    pokedex[nombre] = {\"Tipo\": tipo, \"HP\": hp, \"ATK\": atk, \"DEF\": def_}\n",
    "    print(f\"{nombre} ha sido agregado a la pokedex.\")\n",
    "\n",
    "# 4. Función para eliminar un Pokémon de la pokedex\n",
    "def eliminar_pokemon(nombre):\n",
    "    if nombre in pokedex:\n",
    "        del pokedex[nombre]\n",
    "        print(f\"{nombre} ha sido eliminado de la pokedex.\")\n",
    "    else:\n",
    "        print(f\"El Pokémon {nombre} no se encuentra en la pokedex.\")\n",
    "\n",
    "# 5. Función para mostrar un catálogo de todos los Pokémon en la pokedex\n",
    "def mostrar_catalogo():\n",
    "    print(\"Catálogo de Pokémon:\")\n",
    "    for nombre in pokedex.keys():\n",
    "        print(nombre)\n",
    "\n",
    "# 6. Crear una instancia de la pokedex con al menos tres Pokémon\n",
    "# hecho\n",
    "\n",
    "# 7. Realizar operaciones\n",
    "# Mostrar información de un Pokémon existente\n",
    "mostrar_informacion_pokemon(\"Charizard\")\n",
    "\n",
    "# Agregar un nuevo Pokémon\n",
    "agregar_pokemon(\"Pikachu\", \"Eléctrico\", 35, 55, 40)\n",
    "\n",
    "# Mostrar información de un Pokémon recién agregado\n",
    "mostrar_informacion_pokemon(\"Pikachu\")\n",
    "\n",
    "# Eliminar un Pokémon\n",
    "eliminar_pokemon(\"Venusaur\")\n",
    "\n",
    "# Mostrar catálogo de Pokémon en la pokedex\n",
    "mostrar_catalogo()\n"
   ]
  }
 ],
 "metadata": {
  "kernelspec": {
   "display_name": "Python 3",
   "language": "python",
   "name": "python3"
  },
  "language_info": {
   "codemirror_mode": {
    "name": "ipython",
    "version": 2
   },
   "file_extension": ".py",
   "mimetype": "text/x-python",
   "name": "python",
   "nbconvert_exporter": "python",
   "pygments_lexer": "ipython2",
   "version": "2.7.6"
  }
 },
 "nbformat": 4,
 "nbformat_minor": 5
}
